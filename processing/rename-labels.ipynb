{
 "cells": [
  {
   "cell_type": "code",
   "execution_count": null,
   "metadata": {},
   "outputs": [],
   "source": [
    "from pathlib import Path\n",
    "import numpy as np\n",
    "import matplotlib.pyplot as plt\n",
    "import re"
   ]
  },
  {
   "cell_type": "code",
   "execution_count": null,
   "metadata": {},
   "outputs": [],
   "source": [
    "base_dir = Path(\"/Users/sylvi/topo_data/eva-rna\")\n",
    "assert base_dir.exists()\n",
    "dir_labelled = base_dir / \"labelled\"\n",
    "assert dir_labelled.exists()\n",
    "\n",
    "files_npy = list(dir_labelled.glob(\"*.npy\"))\n",
    "files_png = list(dir_labelled.glob(\"*.png\"))\n",
    "\n",
    "files = files_npy + files_png\n",
    "print(f\"Found {len(files)} files\")\n",
    "\n",
    "# for each file, rename\n",
    "# files are in format: \"task-54-restofname.npy\"\n",
    "# rename to: \"mask-54.npy\"\n",
    "for file in files:\n",
    "    extension = file.suffix\n",
    "    match = re.match(r\"task-(\\d+)-\", file.name)\n",
    "    try:\n",
    "        assert match\n",
    "        task_id = match.group(1)\n",
    "        new_name = f\"mask-{task_id}{extension}\"\n",
    "        print(f\"{file.name:<50} -> {new_name:>20}\")\n",
    "        # file.rename(file.parent / new_name)\n",
    "    except AssertionError:\n",
    "        print(f\"Skipping {file.name}\")"
   ]
  }
 ],
 "metadata": {
  "kernelspec": {
   "display_name": "segmentation-rna",
   "language": "python",
   "name": "python3"
  },
  "language_info": {
   "codemirror_mode": {
    "name": "ipython",
    "version": 3
   },
   "file_extension": ".py",
   "mimetype": "text/x-python",
   "name": "python",
   "nbconvert_exporter": "python",
   "pygments_lexer": "ipython3",
   "version": "3.11.9"
  }
 },
 "nbformat": 4,
 "nbformat_minor": 2
}
