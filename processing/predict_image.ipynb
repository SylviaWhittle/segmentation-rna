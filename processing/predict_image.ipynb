{
 "cells": [
  {
   "cell_type": "code",
   "execution_count": null,
   "id": "8d7bd646",
   "metadata": {},
   "outputs": [],
   "source": [
    "from pathlib import Path\n",
    "from PIL import Image\n",
    "import numpy as np\n",
    "import tensorflow as tf\n",
    "import matplotlib.pyplot as plt\n",
    "import sys\n",
    "from topostats.io import LoadScans\n",
    "\n",
    "src_dir = Path(\"../src\")\n",
    "sys.path.append(str(src_dir))\n",
    "\n",
    "from unet import dice_loss, iou_loss"
   ]
  },
  {
   "cell_type": "code",
   "execution_count": null,
   "id": "dd4211e5",
   "metadata": {},
   "outputs": [],
   "source": [
    "model_path = Path(\"/Users/sylvi/topo_data/eva-rna/test-running-model/eva_rna_model_40_epoch_simple_20250316.keras\")\n",
    "model = tf.keras.models.load_model(model_path, custom_objects={\"dice_loss\": dice_loss, \"iou_loss\": iou_loss})"
   ]
  },
  {
   "cell_type": "code",
   "execution_count": null,
   "id": "b76595af",
   "metadata": {},
   "outputs": [],
   "source": [
    "# load test image\n",
    "# test_dir = Path(\"./experimenting_data/\")\n",
    "# test_image_file = test_dir / \"image_14.npy\"\n",
    "# test_image = np.load(test_image_file)\n",
    "\n",
    "test_dir = Path(\"/Users/sylvi/topo_data/eva-rna/test-running-model/output/processed/\")\n",
    "test_image_file = test_dir / \"20250317_NIH_BuffA_tip10_M3.0_00027.topostats\"\n",
    "# test_image_file = test_dir / \"20250317_NIH_BuffA_tip10_M3.0_00031.topostats\"\n",
    "# test_image_file = test_dir / \"20250317_NIH_BuffA_tip10_M3.0_00042.topostats\"\n",
    "assert test_image_file.exists(), f\"Test image file {test_image_file} does not exist.\"\n",
    "\n",
    "loadscans = LoadScans(img_paths=[test_image_file], channel=\"dummy\")\n",
    "loadscans.get_data()\n",
    "images_dict = loadscans.img_dict\n",
    "\n",
    "test_image_data = images_dict[list(images_dict.keys())[0]]\n",
    "print(test_image_data.keys())\n",
    "test_image_data = test_image_data[\"above\"][\"grain_0\"]\n",
    "print(test_image_data.keys())\n",
    "test_image = test_image_data[\"original_image\"]\n",
    "print(type(test_image))\n",
    "plt.imshow(test_image)\n",
    "plt.show()"
   ]
  },
  {
   "cell_type": "code",
   "execution_count": null,
   "id": "95f0471b",
   "metadata": {},
   "outputs": [],
   "source": [
    "# resize image to right size\n",
    "pil_image = Image.fromarray(test_image)\n",
    "pil_image = pil_image.resize((256, 256))\n",
    "image = np.array(pil_image)\n",
    "# batch dimension\n",
    "image = np.expand_dims(image, axis=0)\n",
    "# class dimension\n",
    "image = np.expand_dims(image, axis=-1)\n",
    "predicted_mask = model.predict(image)\n",
    "predicted_mask = np.squeeze(predicted_mask, axis=0)\n",
    "\n",
    "plt.imshow(predicted_mask, cmap=\"gray\")\n",
    "plt.axis(\"off\")\n",
    "plt.show()\n",
    "\n",
    "thresholded_predictd_mask = predicted_mask > 0.5\n",
    "plt.imshow(thresholded_predictd_mask, cmap=\"gray\")\n",
    "plt.axis(\"off\")\n",
    "plt.show()"
   ]
  }
 ],
 "metadata": {
  "kernelspec": {
   "display_name": "segmentation-rna",
   "language": "python",
   "name": "python3"
  },
  "language_info": {
   "codemirror_mode": {
    "name": "ipython",
    "version": 3
   },
   "file_extension": ".py",
   "mimetype": "text/x-python",
   "name": "python",
   "nbconvert_exporter": "python",
   "pygments_lexer": "ipython3",
   "version": "3.11.9"
  }
 },
 "nbformat": 4,
 "nbformat_minor": 5
}
