{
 "cells": [
  {
   "cell_type": "code",
   "execution_count": 1,
   "metadata": {},
   "outputs": [],
   "source": [
    "from pathlib import Path\n",
    "\n",
    "from IPython.display import clear_output\n",
    "import numpy as np\n",
    "import matplotlib.pyplot as plt\n",
    "\n",
    "from topostats.io import LoadScans\n",
    "from topostats.filters import Filters\n",
    "from topostats.plotting import Colormap\n",
    "\n",
    "colormap = Colormap()\n",
    "cmap = colormap.get_cmap()\n",
    "\n",
    "from cropping import interactive_crop_files"
   ]
  },
  {
   "cell_type": "code",
   "execution_count": 2,
   "metadata": {},
   "outputs": [
    {
     "name": "stdout",
     "output_type": "stream",
     "text": [
      "loaded 23 images\n"
     ]
    }
   ],
   "source": [
    "base_dir = Path(\"/Users/sylvi/topo_data/eva-rna/\")\n",
    "assert base_dir.exists()\n",
    "raw_data_dir = base_dir / \"raw-data\"\n",
    "assert raw_data_dir.exists()\n",
    "\n",
    "files = list(raw_data_dir.glob(\"*.spm\"))\n",
    "print(f\"found {len(files)} files\")\n",
    "\n",
    "loadscans = LoadScans(img_paths=files, channel=\"Height\")\n",
    "loadscans.get_data()\n",
    "img_dict = loadscans.img_dict\n",
    "clear_output()\n",
    "print(f\"loaded {len(img_dict)} images\")"
   ]
  },
  {
   "cell_type": "code",
   "execution_count": 3,
   "metadata": {},
   "outputs": [],
   "source": [
    "# flatten images\n",
    "for raw_image_filename, raw_image_data in img_dict.items():\n",
    "    raw_image = raw_image_data[\"image_original\"]\n",
    "    p2nm = raw_image_data[\"pixel_to_nm_scaling\"]\n",
    "\n",
    "    filters = Filters(\n",
    "        image=raw_image,\n",
    "        filename=raw_image_filename,\n",
    "        pixel_to_nm_scaling=p2nm,\n",
    "        row_alignment_quantile=0.5,\n",
    "        threshold_method=\"absolute\",\n",
    "        otsu_threshold_multiplier=None,\n",
    "        threshold_std_dev=None,\n",
    "        threshold_absolute={\n",
    "            \"above\": 1.0,\n",
    "            \"below\": -1.0,\n",
    "        },\n",
    "        gaussian_size=1.0,\n",
    "        gaussian_mode=\"nearest\",\n",
    "        remove_scars={\n",
    "            \"run\": False,\n",
    "        },\n",
    "    )\n",
    "    filters.filter_image()\n",
    "\n",
    "    flattened_image = filters.images[\"gaussian_filtered\"]\n",
    "    img_dict[raw_image_filename][\"image_flattened\"] = flattened_image"
   ]
  },
  {
   "cell_type": "code",
   "execution_count": 4,
   "metadata": {},
   "outputs": [
    {
     "name": "stdout",
     "output_type": "stream",
     "text": [
      "20250307_NIHCOLE_buffB_1HOUR.0_00023\n",
      "20250307_NIHCOLE_buffB_1HOUR.0_00036\n",
      "20250307_NIHCOLE_buffB_1HOUR.0_00034\n",
      "20250307_NIHCOLE_buffB_punta2.0_00055\n",
      "20250307_NIHCOLE_buffB_punta2.0_00041\n",
      "20250227_NIH_B_1mMKCl_5mMTris.0_00012\n",
      "20250307_NIHCOLE_buffB_1HOUR.0_00031\n",
      "20250307_NIHCOLE_buffB_punta2.0_00044\n",
      "20250227_NIH_B_1mMKCl_5mMTris.0_00013\n",
      "20250307_NIHCOLE_buffB_punta2.0_00047\n",
      "20250307_NIHCOLE_buffB_punta2.0_00052\n",
      "20250304_NIH_BufferB_2mMKCl.0_00005\n",
      "20250303_NIH_BuffC_1 mMKCl.0_00025\n",
      "20250303_NIH_BuffC_1 mMKCl.0_00018\n",
      "20250303_NIH_BuffC_1 mMKCl.0_00013\n",
      "20250303_NIH_BuffC_1 mMKCl.0_00010\n",
      "20250227_NIH_B_1mMKCl_5mMTris.0_00009\n",
      "20250307_NIHCOLE_buffB_punta2.0_00062\n",
      "20250307_NIHCOLE_buffB_1HOUR.0_00029\n",
      "20250307_NIHCOLE_buffB_1HOUR.0_00015\n",
      "20250307_NIHCOLE_buffB_punta2.0_00065\n",
      "20250307_NIHCOLE_buffB_1HOUR.0_00011\n",
      "20250227_NIH_B_1mMKCl_5mMTris.0_00019\n"
     ]
    }
   ],
   "source": [
    "for image_filename, image_data in img_dict.items():\n",
    "    print(image_filename)\n",
    "    flattened_image = image_data[\"image_flattened\"]\n",
    "    p2nm = image_data[\"pixel_to_nm_scaling\"]\n",
    "\n",
    "    # fig, ax = plt.subplots()\n",
    "    # zrange = [-2, 4]\n",
    "    # ax.imshow(flattened_image, cmap=cmap, clim=zrange)\n",
    "    # ax.set_title(image_filename)\n",
    "    # plt.show()\n",
    "# clear_output()"
   ]
  },
  {
   "cell_type": "code",
   "execution_count": null,
   "metadata": {},
   "outputs": [
    {
     "name": "stderr",
     "output_type": "stream",
     "text": [
      "2025-03-13 16:05:54.592 python[45055:1017136] +[IMKClient subclass]: chose IMKClient_Modern\n",
      "2025-03-13 16:05:54.592 python[45055:1017136] +[IMKInputSession subclass]: chose IMKInputSession_Modern\n"
     ]
    },
    {
     "name": "stdout",
     "output_type": "stream",
     "text": [
      "image index: 0, cannot go lower\n",
      "saving image_4.png\n",
      "saving image_5.png\n",
      "saving image_6.png\n",
      "saving image_7.png\n",
      "saving image_8.png\n",
      "image index: 0, cannot go lower\n",
      "image index: 0, cannot go lower\n",
      "saving image_9.png\n",
      "saving image_10.png\n",
      "saving image_11.png\n",
      "saving image_12.png\n",
      "saving image_13.png\n",
      "saving image_14.png\n",
      "saving image_15.png\n",
      "saving image_16.png\n",
      "saving image_17.png\n",
      "saving image_18.png\n",
      "saving image_19.png\n",
      "saving image_20.png\n",
      "saving image_21.png\n",
      "saving image_22.png\n",
      "saving image_23.png\n",
      "saving image_24.png\n",
      "saving image_25.png\n",
      "saving image_26.png\n",
      "saving image_27.png\n",
      "saving image_28.png\n",
      "saving image_29.png\n",
      "saving image_30.png\n",
      "saving image_31.png\n",
      "saving image_32.png\n",
      "saving image_33.png\n",
      "saving image_34.png\n",
      "saving image_35.png\n",
      "saving image_36.png\n",
      "saving image_37.png\n",
      "saving image_38.png\n",
      "saving image_39.png\n",
      "saving image_40.png\n",
      "saving image_41.png\n",
      "saving image_42.png\n",
      "saving image_43.png\n",
      "saving image_44.png\n",
      "saving image_45.png\n",
      "saving image_46.png\n",
      "saving image_47.png\n",
      "saving image_48.png\n",
      "saving image_49.png\n",
      "image index: 22, cannot go higher\n",
      "image index: 22, cannot go higher\n",
      "image index: 22, cannot go higher\n",
      "key not bound: 113\n"
     ]
    },
    {
     "ename": "",
     "evalue": "",
     "output_type": "error",
     "traceback": [
      "\u001b[1;31mThe Kernel crashed while executing code in the current cell or a previous cell. \n",
      "\u001b[1;31mPlease review the code in the cell(s) to identify a possible cause of the failure. \n",
      "\u001b[1;31mClick <a href='https://aka.ms/vscodeJupyterKernelCrash'>here</a> for more info. \n",
      "\u001b[1;31mView Jupyter <a href='command:jupyter.viewOutput'>log</a> for further details."
     ]
    }
   ],
   "source": [
    "crop_dir = base_dir / \"cropped_images\"\n",
    "crop_dir.mkdir(exist_ok=True)\n",
    "\n",
    "# create list of images\n",
    "images = []\n",
    "for image_filename, image_data in img_dict.items():\n",
    "    flattened_image = image_data[\"image_flattened\"]\n",
    "    p2nm = image_data[\"pixel_to_nm_scaling\"]\n",
    "    images.append(flattened_image)\n",
    "\n",
    "interactive_crop_files(images=images, crop_output_dir=crop_dir)\n"
   ]
  }
 ],
 "metadata": {
  "kernelspec": {
   "display_name": "segmentation-rna",
   "language": "python",
   "name": "python3"
  },
  "language_info": {
   "codemirror_mode": {
    "name": "ipython",
    "version": 3
   },
   "file_extension": ".py",
   "mimetype": "text/x-python",
   "name": "python",
   "nbconvert_exporter": "python",
   "pygments_lexer": "ipython3",
   "version": "3.11.9"
  }
 },
 "nbformat": 4,
 "nbformat_minor": 2
}
