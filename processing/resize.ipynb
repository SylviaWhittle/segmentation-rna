{
 "cells": [
  {
   "cell_type": "code",
   "execution_count": 6,
   "metadata": {},
   "outputs": [],
   "source": [
    "from pathlib import Path\n",
    "import numpy as np\n",
    "from PIL import Image\n",
    "import matplotlib.pyplot as plt"
   ]
  },
  {
   "cell_type": "code",
   "execution_count": null,
   "metadata": {},
   "outputs": [],
   "source": [
    "base_dir = Path(\"/Users/sylvi/topo_data/eva-rna/\")\n",
    "assert base_dir.exists()\n",
    "dir_cropped = base_dir / \"cropped_images\"\n",
    "assert dir_cropped.exists()\n",
    "dir_resized = base_dir / \"cropped_images_resized\"\n",
    "dir_resized.mkdir(exist_ok=True)\n",
    "\n",
    "size = 256\n",
    "\n",
    "filenames_images = list(dir_cropped.glob(\"*.npy\"))\n",
    "for filename in filenames_images:\n",
    "    image_np = np.load(filename)\n",
    "    # resize image to 256x256\n",
    "    image_pil = Image.fromarray(image_np)\n",
    "    image_pil_resized = image_pil.resize((size, size))\n",
    "    image_resized_np = np.array(image_pil_resized)\n",
    "    # save resized image as numpy and png\n",
    "    filename_resized = dir_resized / filename.name\n",
    "    # numpy\n",
    "    np.save(filename_resized, image_resized_np)\n",
    "    # png\n",
    "    # convert to rbg using viridis colormap\n",
    "    plt.imsave(filename_resized.with_suffix(\".png\"), image_resized_np, cmap=\"viridis\")"
   ]
  }
 ],
 "metadata": {
  "kernelspec": {
   "display_name": "segmentation-rna",
   "language": "python",
   "name": "python3"
  },
  "language_info": {
   "codemirror_mode": {
    "name": "ipython",
    "version": 3
   },
   "file_extension": ".py",
   "mimetype": "text/x-python",
   "name": "python",
   "nbconvert_exporter": "python",
   "pygments_lexer": "ipython3",
   "version": "3.11.9"
  }
 },
 "nbformat": 4,
 "nbformat_minor": 2
}
